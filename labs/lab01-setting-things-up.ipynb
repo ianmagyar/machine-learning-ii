{
 "cells": [
  {
   "cell_type": "markdown",
   "metadata": {},
   "source": [
    "# Cvičenie 1: Nastavenie programátorského prostredia a OpenAI gym\n",
    "\n",
    "Na tomto cvičení si pripravíte programátorské prostredie a oboznámite sa s knižnicu OpenAI gym a s niektorými štandardnými úlohami pre riešenie pomocou učenia posilňovaním, teda *reinforcement learning*om."
   ]
  },
  {
   "cell_type": "markdown",
   "metadata": {},
   "source": [
    "## Krok 1: Príprava prostredia\n",
    "\n",
    "Na tomto predmete budeme programovať v jazyku Python, konkrétne vo verzii **3.8**. Vzhľadom na veľký počet potrebných knižníc odporúčame používať distribúciu Anaconda, ktorá obsahuje mnoho z potrebných knižníc, avšak knižnice môžete aj doinštalovať do štandardnej verzie Pythonu. Ak Python alebo Anacondu máte nainštalovanú, môžete pokračovať krokom 1.2."
   ]
  },
  {
   "cell_type": "markdown",
   "metadata": {},
   "source": [
    "### Krok 1.1: Inštalácia Anacondy\n",
    "\n",
    "Najnovšiu verziu Anacondy s Pythonom 3.8 si môžete stiahnuť z [web stránky Anacondy](https://www.anaconda.com/products/individual). Vyberte si inštalačný súbor pre váš operačný systém, a postupujte podľa inštrukcií počas inštalácie (podrobné návody nájdete aj [tu](https://docs.anaconda.com/anaconda/install/)). Ak používate Windows OS, odporúčame už počas inštalácie pridať do zoznamu systémových premenných cestu k inštalácii Anacondy.\n",
    "\n",
    "<img src=\"sources/lab01/anaconda_installation.jpg\" width=\"400\">\n",
    "\n",
    "Po ukončení inštalácie môžete skontrolovať jej úspešnosť cez príkazový riadok alebo terminál zadaním príkazu `python --version`. Mal by sa zobraziť výpis typu `Python 3.8.X`. Anaconda má aj vlastný príkazový riadok Anaconda Prompt, kde môžete interagovať priamo s inštaláciou."
   ]
  },
  {
   "cell_type": "markdown",
   "metadata": {},
   "source": [
    "### Krok 1.2: Vytvorenie virtuálneho prostredia\n",
    "\n",
    "Aby sme neovplyvnili základnú inštaláciu Anacondy, resp. Pythonu, vytvoríme si virtuálne prostredie, kde doinštalujeme potrebné knižnice. Virtuálne prostredie vytvoríme zadaním príkazu v Anaconda Prompt (prompt spustite ako administrátor):\n",
    "\n",
    "`conda create --name rl-env python=3.8`\n",
    "\n",
    "kde `rl-env` je názov prostredia. Následe vybrané prostredie aktivujeme príkazom:\n",
    "\n",
    "`conda activate rl-env`.\n",
    "\n",
    "Zoznam nainštalovaných knižníc vo virtuálnom prostredí viete dať vypísať pomocou príkazu `conda list`. Ako môžete vidieť, v novom prostredí máme iba niekoľko knižníc, preto potrebujeme doinštalovať potrebné knižnice.\n",
    "\n",
    "**Poznámka:** Ak pracujete iba so štandardným Pythonom, virtuálne prostredie viete vytvoriť cez knižnicu `venv`. Podrobné informácie a návod nájdete napríklad [tu](https://docs.python.org/3/library/venv.html)."
   ]
  },
  {
   "cell_type": "markdown",
   "metadata": {},
   "source": [
    "### Krok 1.3: Inštalácia OpenAI gym\n",
    "\n",
    "Knižnicu OpenAI gym (ako aj ostatné pythonovské knižnice) nainštalujeme príkazom `pip`. Pred tým si ale skontrolujte, či máte aktivované virtuálne prostredie. Gym sa nainštaluje príkazom:\n",
    "\n",
    "`python -m pip install gym`.\n",
    "\n",
    "Príkaz navyše nainštaluje všetky dependencies knižnice gym. O úspešnosti inštalácie sa uistíte opätovným zadaním príkazu `conda list`, resp. skúste importnúť knižnciu OpenAI gym príkazmi (stále v Anaconda Prompt):\n",
    "\n",
    "```\n",
    "python\n",
    "import gym\n",
    "```\n",
    "\n",
    "Ak sa nevypíše chybová hláška, vaše prostredie je pripravené na použitie."
   ]
  },
  {
   "cell_type": "markdown",
   "metadata": {},
   "source": [
    "### Krok 1.4: Nastavenie IDE\n",
    "\n",
    "Ak pri programovaní a spustení kódu používate IDE, nezabudnite nastaviť cestu k virtuálnemu prostrediu. K ceste sa dopracujete príkazom `where python` v Anaconda Prompt pri aktivovanom virtuálnom prostredí. Vypíše sa vám niekoľko inštalácií, potrebujete cestu s názvom virtuálneho prostredia, napríklad:\n",
    "\n",
    "`C:\\ProgramData\\Anaconda3\\envs\\rl-env\\python.exe`.\n",
    "\n",
    "Alternatívne vaše kódy môžete spustiť priamo cez Anaconda Prompt po aktivácii virtuálneho prostredia a zadaní príkazu:\n",
    "\n",
    "`python script_name.py`"
   ]
  },
  {
   "cell_type": "markdown",
   "metadata": {},
   "source": [
    "## Krok 2: OpenAI gym\n",
    "\n",
    "V ďalšej časti cvičenia sa oboznámime s knižnicou [OpenAI gym](https://gym.openai.com)."
   ]
  },
  {
   "cell_type": "markdown",
   "metadata": {},
   "source": [
    "### Krok 2.1: Interakcia s prostrediami\n",
    "\n",
    "Vyskúšaje základnú interakciu s prostrediami OpenAI gym pomocou príkladu nižšie. Prezrite si základné funkcie a ich návratové hodnoty. Pritom sa môžete riadiť [dokumentáciou](https://gym.openai.com/docs/)."
   ]
  },
  {
   "cell_type": "code",
   "execution_count": null,
   "metadata": {},
   "outputs": [],
   "source": [
    "import gym\n",
    "\n",
    "env = gym.make('CartPole-v0')\n",
    "env.reset()\n",
    "for _ in range(1000):\n",
    "    env.render()\n",
    "    env.step(env.action_space.sample())  # take a random action\n",
    "env.close()"
   ]
  },
  {
   "cell_type": "markdown",
   "metadata": {},
   "source": [
    "### Krok 2.2: Typy prostredí\n",
    "\n",
    "Web stránka knižnice ponúka aj [zoznam všetkých základných prostredí](https://gym.openai.com/envs/#classic_control). Popíšte niekoľko prostredí a kategorizujte ich podľa niektorých vlastností, ako napríklad:\n",
    "\n",
    "* stavový priestor - počet parametrov, diskrétny/spojitý?\n",
    "* priestor akcií - dostupné akcie a ich typy\n",
    "* odmena - spôsob odmeňovania, hodnota odmeny\n",
    "* dynamika prostredia - deterministické/nedeterministické"
   ]
  }
 ],
 "metadata": {
  "kernelspec": {
   "display_name": "Python 3",
   "language": "python",
   "name": "python3"
  },
  "language_info": {
   "codemirror_mode": {
    "name": "ipython",
    "version": 3
   },
   "file_extension": ".py",
   "mimetype": "text/x-python",
   "name": "python",
   "nbconvert_exporter": "python",
   "pygments_lexer": "ipython3",
   "version": "3.8.5"
  }
 },
 "nbformat": 4,
 "nbformat_minor": 4
}
