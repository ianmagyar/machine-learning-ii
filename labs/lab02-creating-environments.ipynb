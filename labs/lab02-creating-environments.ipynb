{
 "cells": [
  {
   "cell_type": "markdown",
   "metadata": {},
   "source": [
    "# Cvičenie 2: Vytvorenie vlastných prostredí\n",
    "\n",
    "Prostredia sú neoddeliteľnou súčasťou problémov riešených *reinforcement learning*om. Kým knižnica OpenAI gym obsahuje mnoho štandardných a často používaných prostredí, tie nám pri riešení reálnych problémov nepomôžu. Práve preto sa na dnešnom cvičení pozrieme na to, ako navrhnúť a implementovať vlastné prostredia s rozhraním ako majú prostredia v OpenAI gym."
   ]
  },
  {
   "cell_type": "markdown",
   "metadata": {},
   "source": [
    "## Gridworld\n",
    "\n",
    "Ako príklad zoberieme jednoduché avšak veľmi užitočné prostredie, Gridworld. Gridworld je dvojdimenzionálny svet, v ktorom sa agent pohybuje v štyroch smeroch: sever, východ, juh, západ. Svet obsahuje (zvyčajne) jednu cieľovú pozíciu, a úlohou agenta je nájsť najkratšiu cestu k tomuto bodu z každej pozície. Úloha agenta môže byť komplikovaná prekážkami a pascami vo svete, alebo nedeterministickým spôsobom aktualizácie stavu prostredia.\n",
    "\n",
    "Príklad gridworldu nájdete na obrázku nižšie. Čierne bloky predstavujú steny, červené pozície sú pasce, zelená oblasť je cieľová pozícia a aktuálna pozícia agenta je reprezentovaná sivým blokom.\n",
    "\n",
    "<img src=\"sources/lab02/gridworld.jpg\" width=\"400\">\n",
    "\n",
    "Kým na prvý pohľad prostredie sa môže zdať primitívny, v skutočnosti existuje mnoho úloh, ktoré viete namodelovať pomocou prostredia typu gridworldu. Predstavte si napríklad systém, ktorý je popísaný niekoľkými atribútmi. Ak možné stavy reprezentujeme ako pozície v mnohorozmernom priestore, dostaneme sa k problému, ktorý je veľmi podobný gridworldu."
   ]
  },
  {
   "cell_type": "markdown",
   "metadata": {},
   "source": [
    "## Krok 1: Definícia prostredia\n",
    "\n",
    "Pred tým, než sa spustíme do implementácie prostredia, potrebujeme ho zadefinovať. Ako už viete z prednášky, prostredia v kontexte *reinforcement learning*u vieme definovať ako Markovovské rozhodovacie procesy, teda formálne ako štvoricu hodnôt $< S, A, R, P >$ (posledný člen sa často označuje aj ako $T$).\n",
    "\n",
    "$S$ je stavový priestor prostredia, teda množina všetkých možných stavov, v ktorom sa prostredie môže nachádzať. S definíciou stavového priestoru súvisí aj spôsob reprezentácie stavu, teda pozorovanie - informácie, ktoré budú dostupné agentovi pri rozhodovaní.\n",
    "\n",
    "Množina akcií $A$ definujeakcie dostupné agentovi. Môže byť definovaná dvomi základnými spôsobmi:\n",
    "\n",
    "1. je dostupná každá akcia v každom stave prostredia a agent musí zistiť, ktoré akcie spôsobujú zmeny v rôznych stavoch;\n",
    "2. pre každý stav sa definuje množina platných akcií, v tomto prípade agent sa nemusí naučiť platné akcie.\n",
    "\n",
    "Funkcia odmeny $R$, ktorá určuje odmenu, ktorú dostane agent za vykonanie istej akcie v istom stave prostredia. Hodnota funkcie môže vychádzať iba zo stavu, alebo z dvojice stav-akcia.\n",
    "\n",
    "Pre úplnú definíciu prostredia je potrebné určiť aj stavové prechody formou prechodovej matice $P$. Môžeme ju vnímať aj ako mapovaciu funkciu, ktorá na základe súčasného stavu prostredia (a vykonanej akcie) pre každý možný stav prostredia určí pravdepodobnosť toho, že nasledujúci stav prostredia bude práve daný stav.\n",
    "\n",
    "**Úloha:** Zadefinujte nasledujúce charakteristiky vašej implementácie prostredia gridworld:\n",
    "\n",
    "* stavový priestor - čo bude obsahovať táto množina, a ako budú reprezentované jednotlivé stavy;\n",
    "* priestor akcií - aké akcie sú dostupné agentovi;\n",
    "* funkcia odmeny - spôsob odmeňovania: agent má nájsť najkratšiu cestu vo svete a vyhýbať sa stenám a pascám;\n",
    "* prechodová matica - pre jednoduchosť bude prostredie gridworld zatiaľ úplne deterministické."
   ]
  },
  {
   "cell_type": "markdown",
   "metadata": {},
   "source": [
    "## Krok 2: Definícia triedy\n",
    "\n",
    "Po definícii charakteristík prostredia môžeme začať naše prostredie implementovať. Vytvorte nový Python skript, alebo [stiahnite si kostru implementácie](sources/lab02/lab2.py).\n",
    "\n",
    "Gridworld implementujeme ako triedu a ako prvé napíšeme konštruktor, pričom konštruktor má nasledovné parametre:\n",
    "\n",
    "* `height` - výška sveta (počet riadkov)\n",
    "* `width` - šírka sveta (počet stĺpcov)\n",
    "* `goal_position` - cieľová pozícia reprezentovaná ako dvojica čísel: číslo riadku a stĺpca, kde sa nachádza cieľová pozícia\n",
    "* `walls` - zoznam neplatných pozícií, teda stien; každá stena je reprezentovaná rovnako ako cieľová pozícia, okraje sveta sú automaticky považované za steny, nie je ich potrebné zvlásť definovať\n",
    "* `traps` - zoznam pascí reprezentovaný rovnako ako `walls`.\n",
    "\n",
    "Pri implementácii nezabudnite skontrolovať správnosť a platnosť zadaných hodnôt parametrov. Ak sú ponechané defaultné hodnoty parametrov, svet neobsahuje steny a pasce, resp. cieľovú pozíciu vygenerujte náhodne."
   ]
  },
  {
   "cell_type": "code",
   "execution_count": null,
   "metadata": {},
   "outputs": [],
   "source": [
    "class Gridworld:\n",
    "    def __init__(self, height, width, goal_position=None, walls=[], traps=[]):\n",
    "        pass\n",
    "\n",
    "    def reset(self):\n",
    "        return\n",
    "    \n",
    "    def calculate_reward(self, new_state):\n",
    "        return\n",
    "    \n",
    "    def is_done(self):\n",
    "        return\n",
    "    \n",
    "    def step(self, action):\n",
    "        return\n",
    "    \n",
    "    def render(self):\n",
    "        pass"
   ]
  },
  {
   "cell_type": "markdown",
   "metadata": {},
   "source": [
    "## Krok 3: Inicializácia prostredia\n",
    "\n",
    "V ďalšom kroku implementujeme funkciu, ktorá pripraví prostredie pre interakciu s agentom - `reset`. Funkcia náhodne vygeneruje štartovaciu pozíciu agenta, pričom táto pozícia nesmie byť na stene, v pasci alebo na cieľovej pozícii. Funkcia má jednu návratovú hodnotu, a to reprezentáciu štartovacej pozície agenta.\n",
    "\n",
    "**Poznámka:** Ak pracujete v tomto jupyter notebooku, všetky funkcie musíte implementovať v bloku vyššie."
   ]
  },
  {
   "cell_type": "markdown",
   "metadata": {},
   "source": [
    "## Krok 4: Výpočet odmeny\n",
    "\n",
    "Implementujte funkciu `calculate_reward` pre výpočet hodnoty odmeny. Síce vo formálnej definícii odmena sa vypočíta na základe pôvodného stavu prostredia (a akcie agenta), v prípade gridworldu je rozumnejšie vychádzať z aktualizovaného stavu prostredia. Ak ste zadefinovali funkciu odmeny, ktorá vyžaduje ďalšie parametre, definíciu funkcie opravte podľa potreby.\n",
    "\n",
    "**Poznámka:** Niekedy funkcia odmeny sa implementuje mimo prostredia, čo umožňuje prácu s rôznymi funkciami odmeny."
   ]
  },
  {
   "cell_type": "markdown",
   "metadata": {},
   "source": [
    "## Krok 5: Určenie stavu interakcie\n",
    "\n",
    "Z hľadiska trénovania je dôležité vedieť, či má ešte zmysel pokračovať v interakcii agenta a prostredia. Práve túto otázku rieši funkcia `is_done`, pričom interakciu budeme považovať za ukončenú ak sa agent dostane na cieľovú pozíciu, alebo spadne do pasce. Interakcia sa neskončí ak agent narazí do steny."
   ]
  },
  {
   "cell_type": "markdown",
   "metadata": {},
   "source": [
    "## Krok 6: Aktualizácia stavu prostredia\n",
    "\n",
    "V tomto kroku implementujeme funkciu `step`, ktorá má jeden parameter, a to akciu agenta. Funkcia má za úlohu aktualizovať stav prostredia, a poskytnúť agentovi informácie o novom stave, o odmene, a o stavu interakcie.\n",
    "\n",
    "Pre uniformnosť rozhraní dodržíme aj API knižnice OpenAI gym a naša funkcia bude mať aj štvrtú návratovú hodnotu, a to prázdny slovník (prípadne môžete ho naplniť dodatočnými informáciami).\n",
    "\n",
    "Funkcia `step` teda má návratové hodnoty:\n",
    "\n",
    "1. aktualizovaný stav prostredia\n",
    "2. odmena za práve vykonaný krok\n",
    "3. stav interakcie (ukončená/neukončená)\n",
    "4. dodatočné informácie"
   ]
  },
  {
   "cell_type": "markdown",
   "metadata": {},
   "source": [
    "## Krok 7: Výpis\n",
    "\n",
    "Na záver ešte vytvoríme funkciu `render`, ktorá vykreslí na obrazovku gridworld ako aj informácie o poslednom kroku. Grafický výstup bude jednoduchý výpis do konzoly, ktorý neskôr môžete upraviť podľa vlastných predstáv. Výpis môže vyzerať napríklad takto (pre situáciu na obrázku):\n",
    "\n",
    "```\n",
    "##########\n",
    "#X       #\n",
    "#    #   #\n",
    "#  O     #\n",
    "####     #\n",
    "#      # #\n",
    "#   #    #\n",
    "# O##. O #\n",
    "#        #\n",
    "##########\n",
    "(N)     -1\n",
    "```"
   ]
  },
  {
   "cell_type": "markdown",
   "metadata": {},
   "source": [
    "## Testovanie\n",
    "\n",
    "Vaše riešenie otestujte vytvorením príkladu gridworldu a posúvaním agenta. Skontrolujte pritom správnosť aktualizácie stavov, ukončenie interakcie a odmeňovanie. [Ukážkové riešenie je dostupné tu.](sources/lab02/lab2_solution.py)"
   ]
  },
  {
   "cell_type": "markdown",
   "metadata": {},
   "source": [
    "## Domáca úloha\n",
    "\n",
    "1. Rozšírte implementáciu *gridworld*u tak, aby prostredie bolo nedeterministické. Pridajte do konštuktora parameter `determinism`, ktorý nadobúda hodnotu medzi 0 a 1, a vyjadruje mieru determinizmu. Ak `determinism = 1`, prostredie sa správa ako sme ho naimplementovali. V opačnom prípade agent sa posunie podľa platných pravidiel s pravdepodobnosťou `determinism` a v ostatných prípadoch sa posunie náhodne.\n",
    "2. Upravte funkciu `is_done`, aby ustrážila horný limit dĺžky interakcie. Táto zmena má napomôcť agentovi hľadať optimálne cesty tak, že počet jeho akcií za interakciu bude limitovaný. Horný limit definujte ako číslo potrebný pre návštevu všetkých voľných pozícií (aj cieľovej) z ľubovoľnej pozície vo svete.\n",
    "3. Upravte konštruktor triedy tak, aby náhodne umiestnila pasce vo svete ak tie nie sú zadefinované. Pasce nesmú hraničiť s cieľovou pozíciou."
   ]
  }
 ],
 "metadata": {
  "kernelspec": {
   "display_name": "Python 3",
   "language": "python",
   "name": "python3"
  },
  "language_info": {
   "codemirror_mode": {
    "name": "ipython",
    "version": 3
   },
   "file_extension": ".py",
   "mimetype": "text/x-python",
   "name": "python",
   "nbconvert_exporter": "python",
   "pygments_lexer": "ipython3",
   "version": "3.7.3"
  }
 },
 "nbformat": 4,
 "nbformat_minor": 2
}
