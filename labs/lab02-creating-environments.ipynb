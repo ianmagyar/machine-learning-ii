{
 "cells": [
  {
   "cell_type": "markdown",
   "metadata": {},
   "source": [
    "# Cvičenie 2: Návrh a implementácia vlastných prostredí\n",
    "\n",
    "Prostredia sú neoddeliteľnou súčasťou problémov riešených *reinforcement learning*om. Kým knižnica `gymnasium` obsahuje mnoho štandardných a často používaných testovacích prostredí, tie nám pri riešení reálnych problémov nepomôžu. Práve preto sa na dnešnom cvičení pozrieme na to, ako navrhnúť a implementovať vlastné prostredia s rovnakým rozhraním ako majú prostredia v `gymnasium`."
   ]
  },
  {
   "cell_type": "markdown",
   "metadata": {},
   "source": [
    "## Gridworld\n",
    "\n",
    "Ako príklad zoberieme jednoduché prostredie Gridworld. Gridworld je dvojdimenzionálny svet, v ktorom sa agent pohybuje rôznymi smermi. Svet obsahuje (zvyčajne) jednu cieľovú pozíciu, a úlohou agenta je nájsť najkratšiu cestu k tomuto bodu z každej pozície. Úloha agenta môže byť komplikovaná prekážkami a pascami vo svete, alebo nedeterministickým spôsobom aktualizácie stavu prostredia.\n",
    "\n",
    "Príklad gridworldu nájdete na obrázku nižšie. Čierne bloky predstavujú steny, červené pozície sú pasce, zelená oblasť je cieľová pozícia a aktuálna pozícia agenta je reprezentovaná sivým blokom.\n",
    "\n",
    "<img src=\"lab02/gridworld.jpg\" width=\"400\">\n",
    "\n",
    "Kým sa na prvý pohľad prostredie môže zdať primitívny, v skutočnosti existuje mnoho úloh, ktoré viete namodelovať pomocou prostredia typu gridworldu. Predstavte si napríklad systém, ktorý je popísaný niekoľkými atribútmi. Ak možné stavy reprezentujeme ako pozície v mnohorozmernom priestore, dostaneme sa k problému, ktorý je veľmi podobný gridworldu."
   ]
  },
  {
   "cell_type": "markdown",
   "metadata": {},
   "source": [
    "## Krok 1: Definícia prostredia\n",
    "\n",
    "Pred tým, než sa spustíme do implementácie prostredia, potrebujeme ho zadefinovať. Prostredia v kontexte *reinforcement learning*u vieme definovať ako Markovovské rozhodovacie procesy, teda formálne ako štvoricu hodnôt $< S, A, R, P >$ (posledný člen sa často označuje aj ako $T$).\n",
    "\n",
    "$S$ je stavový priestor prostredia, teda množina všetkých možných stavov, v ktorom sa prostredie môže nachádzať. S definíciou stavového priestoru súvisí aj spôsob reprezentácie stavu, teda pozorovanie - informácie, ktoré budú dostupné agentovi pri rozhodovaní.\n",
    "\n",
    "Množina akcií $A$ definuje akcie dostupné agentovi. Môže byť definovaná dvomi základnými spôsobmi:\n",
    "\n",
    "1. je dostupná každá akcia v každom stave prostredia a agent musí zistiť, ktoré akcie spôsobujú zmeny v rôznych stavoch;\n",
    "2. pre každý stav sa definuje množina platných akcií, v tomto prípade sa agent nemusí naučiť platné akcie.\n",
    "\n",
    "Funkcia odmeny $R$, ktorá určuje odmenu, ktorú agent dostane za vykonanie istej akcie v istom stave prostredia. Hodnota funkcie môže vychádzať iba zo stavu, alebo z dvojice stav-akcia.\n",
    "\n",
    "Pre úplnú definíciu prostredia je potrebné určiť aj stavové prechody formou prechodovej matice $P$. Môžeme ju vnímať aj ako mapovaciu funkciu, ktorá na základe súčasného stavu prostredia (a vykonanej akcie) pre každý možný stav prostredia určí pravdepodobnosť toho, že nasledujúci stav prostredia bude práve daný stav.\n",
    "\n",
    "**Úloha:** Zadefinujte nasledujúce charakteristiky vašej implementácie prostredia gridworld:\n",
    "\n",
    "* stavový priestor - čo bude obsahovať táto množina, a ako budú reprezentované jednotlivé stavy? Navrhnite diskrétny aj spojitý svet.\n",
    "* priestor akcií - aké akcie sú dostupné agentovi? Navrhnite diskrétny aj voľný pohyb agenta.\n",
    "* funkcia odmeny - spôsob odmeňovania: agent má nájsť najkratšiu cestu vo svete a vyhýbať sa stenám a pascám;\n",
    "* prechodová matica - pre jednoduchosť bude prostredie gridworld zatiaľ úplne deterministické, novú pozíciu agenta určíme na základe aktuálnej pozície a smeru akcie."
   ]
  },
  {
   "cell_type": "markdown",
   "metadata": {},
   "source": [
    "## Krok 2: Definícia triedy\n",
    "\n",
    "Po definícii charakteristík prostredia môžeme začať naše prostredie implementovať. Vytvorte nový Python skript, alebo [stiahnite si kostru implementácie](lab02/gridworld.py).\n",
    "\n",
    "Gridworld implementujeme ako triedu a ako prvé napíšeme konštruktor, pričom konštruktor má nasledovné parametre:\n",
    "\n",
    "* `height` - výška sveta;\n",
    "* `width` - šírka sveta;\n",
    "* `goal_position` - cieľová pozícia reprezentovaná ako dvojica čísel: *x*-ová a *y*-ová súradnica cieľovej pozície;\n",
    "* `traps` - zoznam pascí, pričom každá pasca je reprezentovaná rovnako ako cieľová pozícia.\n",
    "\n",
    "Pri implementácii nezabudnite skontrolovať správnosť a platnosť zadaných hodnôt parametrov. Ak sú ponechané defaultné hodnoty parametrov, svet neobsahuje pasce a cieľovú pozíciu vygenerujte náhodne."
   ]
  },
  {
   "cell_type": "code",
   "execution_count": null,
   "metadata": {},
   "outputs": [],
   "source": [
    "class Gridworld:\n",
    "    def __init__(self, height, width, goal_position=None, traps=[]):\n",
    "        pass\n",
    "\n",
    "    def reset(self):\n",
    "        return\n",
    "    \n",
    "    def calculate_reward(self, new_state):\n",
    "        return\n",
    "    \n",
    "    def is_done(self):\n",
    "        return\n",
    "    \n",
    "    def step(self, action):\n",
    "        return\n",
    "    \n",
    "    def render():\n",
    "        pass"
   ]
  },
  {
   "cell_type": "markdown",
   "metadata": {},
   "source": [
    "## Krok 3: Inicializácia prostredia\n",
    "\n",
    "V ďalšom kroku implementujeme funkciu, ktorá pripraví prostredie pre interakciu s agentom - `reset`. Funkcia náhodne vygeneruje štartovaciu pozíciu agenta, pričom táto pozícia nesmie byť v pasci alebo na cieľovej pozícii. Funkcia má jednu návratovú hodnotu, a to reprezentáciu štartovacej pozície agenta.\n",
    "\n",
    "**Poznámka:** Pre spojitý svet agent dosiahne cieľ alebo pascu ak jeho vzdialenosť od týchto pozícií je menšia ako 1."
   ]
  },
  {
   "cell_type": "markdown",
   "metadata": {},
   "source": [
    "## Krok 4: Výpočet odmeny\n",
    "\n",
    "Implementujte funkciu `calculate_reward` pre výpočet hodnoty odmeny. Síce vo formálnej definícii sa odmena vypočíta na základe pôvodného stavu prostredia (a akcie agenta), v prípade gridworldu je rozumnejšie vychádzať z aktualizovaného stavu prostredia. Ak ste zadefinovali funkciu odmeny, ktorá vyžaduje ďalšie parametre, definíciu funkcie opravte podľa potreby.\n",
    "\n",
    "**Poznámka:** Niekedy funkcia odmeny sa implementuje mimo prostredia, čo umožňuje prácu s rôznymi funkciami odmeny."
   ]
  },
  {
   "cell_type": "markdown",
   "metadata": {},
   "source": [
    "## Krok 5: Určenie stavu interakcie\n",
    "\n",
    "Z hľadiska trénovania je dôležité vedieť, či má ešte zmysel pokračovať v interakcii agenta a prostredia. Práve túto otázku rieši funkcia `is_done`, pričom interakciu budeme považovať za ukončenú ak sa agent dostane na cieľovú pozíciu, alebo spadne do pasce (vzdialenosť menšia ako 1 v oboch prípadoch pre spojitý svet)."
   ]
  },
  {
   "cell_type": "markdown",
   "metadata": {},
   "source": [
    "## Krok 6: Aktualizácia stavu prostredia\n",
    "\n",
    "V tomto kroku implementujeme funkciu `step`, ktorá má jeden parameter, a to akciu agenta. Funkcia má za úlohu aktualizovať stav prostredia, a poskytnúť agentovi informácie o novom stave, o odmene, a o stavu interakcie.\n",
    "\n",
    "Pre uniformnosť rozhraní dodržíme aj API knižnice `gymnasium` a naša funkcia bude mať aj ďalšie návratové hodnoty ako `truncated` (tu môžete napríklad zadefinovať maximálny počet krokov, reprezentuje teda alternatívny koniec interakcie), `info`pre dodatočné informácie - nateraz stačí prázdny slovník (prípadne môžete pridať nejaké informácie).\n",
    "\n",
    "Funkcia `step` teda má návratové hodnoty:\n",
    "\n",
    "1. aktualizovaný stav prostredia\n",
    "2. odmena za práve vykonaný krok\n",
    "3. stav interakcie (úspešne ukončená/neukončená)\n",
    "4. ukončenie interakcie (napr. pri dosiahnutí maximálneho počtu krokov)\n",
    "5. dodatočné informácie"
   ]
  },
  {
   "cell_type": "markdown",
   "metadata": {},
   "source": [
    "## Krok 7: Výpis\n",
    "\n",
    "Na záver ešte môžete vytvoriť funkciu `render`, ktorá vykreslí na obrazovku gridworld ako aj informácie o poslednom kroku. Grafický výstup bude jednoduchý výpis do konzoly, ktorý neskôr môžete upraviť podľa vlastných predstáv. Výpis môže vyzerať napríklad takto (`X` označuje cieľovú pozíciu, `O` pasce, `#` steny a `.` agenta):\n",
    "\n",
    "```\n",
    "##########\n",
    "#X       #\n",
    "#        #\n",
    "#  O     #\n",
    "#        #\n",
    "#        #\n",
    "#        #\n",
    "# O  . O #\n",
    "#        #\n",
    "##########\n",
    "(N)     -1\n",
    "```"
   ]
  },
  {
   "cell_type": "markdown",
   "metadata": {},
   "source": [
    "## Testovanie\n",
    "\n",
    "Vaše riešenie otestujte vytvorením príkladu gridworldu a posúvaním agenta. Skontrolujte pritom správnosť aktualizácie stavov, ukončenie interakcie a odmeňovanie."
   ]
  },
  {
   "cell_type": "markdown",
   "metadata": {},
   "source": [
    "# `gymnasium`\n",
    "\n",
    "V ďalšej časti cvičenia sa oboznámime s knižnicou [gymnasium](https://gymnasium.farama.org)."
   ]
  },
  {
   "cell_type": "markdown",
   "metadata": {},
   "source": [
    "### Krok 1: Interakcia s prostrediami\n",
    "\n",
    "Vyskúšaje základnú interakciu s prostrediami `gymnasium` pomocou príkladu nižšie. Prezrite si základné funkcie a ich návratové hodnoty. Môžete sa pritom riadiť [dokumentáciou](https://gymnasium.farama.org/api/env/)."
   ]
  },
  {
   "cell_type": "code",
   "execution_count": null,
   "metadata": {},
   "outputs": [],
   "source": [
    "import gymnasium\n",
    "\n",
    "env = gymnasium.make('CartPole-v1', render_mode='human')\n",
    "env.reset()\n",
    "for _ in range(1000):\n",
    "    env.render()\n",
    "    env.step(env.action_space.sample())  # take a random action\n",
    "env.close()"
   ]
  },
  {
   "cell_type": "markdown",
   "metadata": {},
   "source": [
    "### Krok 2: Typy prostredí\n",
    "\n",
    "Web stránka knižnice ponúka aj [zoznam všetkých základných prostredí](https://gymnasium.farama.org/environments/classic_control/). Popíšte niekoľko z nich a kategorizujte ich podľa niektorých vlastností, ako napríklad:\n",
    "\n",
    "* stavový priestor - počet parametrov, diskrétny/spojitý?\n",
    "* priestor akcií - dostupné akcie a ich typy\n",
    "* odmena - spôsob odmeňovania, hodnota odmeny\n",
    "* dynamika prostredia - deterministická/nedeterministická"
   ]
  }
 ],
 "metadata": {
  "kernelspec": {
   "display_name": "Python 3 (ipykernel)",
   "language": "python",
   "name": "python3"
  },
  "language_info": {
   "codemirror_mode": {
    "name": "ipython",
    "version": 3
   },
   "file_extension": ".py",
   "mimetype": "text/x-python",
   "name": "python",
   "nbconvert_exporter": "python",
   "pygments_lexer": "ipython3",
   "version": "3.11.5"
  }
 },
 "nbformat": 4,
 "nbformat_minor": 2
}
